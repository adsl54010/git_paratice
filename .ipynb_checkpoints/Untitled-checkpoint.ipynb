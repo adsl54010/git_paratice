{
 "cells": [
  {
   "cell_type": "code",
   "execution_count": 8,
   "id": "43184541",
   "metadata": {},
   "outputs": [
    {
     "data": {
      "text/plain": [
       "'3.11.0rc1'"
      ]
     },
     "execution_count": 8,
     "metadata": {},
     "output_type": "execute_result"
    }
   ],
   "source": [
    "from platform import python_version\n",
    "python_version()"
   ]
  },
  {
   "cell_type": "code",
   "execution_count": 9,
   "id": "344cca9c",
   "metadata": {},
   "outputs": [
    {
     "ename": "ModuleNotFoundError",
     "evalue": "No module named 'pandas'",
     "output_type": "error",
     "traceback": [
      "\u001b[0;31m---------------------------------------------------------------------------\u001b[0m",
      "\u001b[0;31mModuleNotFoundError\u001b[0m                       Traceback (most recent call last)",
      "Cell \u001b[0;32mIn[9], line 1\u001b[0m\n\u001b[0;32m----> 1\u001b[0m \u001b[38;5;28;01mimport\u001b[39;00m \u001b[38;5;21;01mpandas\u001b[39;00m\n",
      "\u001b[0;31mModuleNotFoundError\u001b[0m: No module named 'pandas'"
     ]
    }
   ],
   "source": [
    "import pandas"
   ]
  },
  {
   "cell_type": "code",
   "execution_count": 1,
   "id": "911872cf",
   "metadata": {},
   "outputs": [],
   "source": [
    "# github test"
   ]
  },
  {
   "cell_type": "code",
   "execution_count": 2,
   "id": "c4bb558b",
   "metadata": {},
   "outputs": [],
   "source": [
    "# github test2"
   ]
  },
  {
   "cell_type": "code",
   "execution_count": null,
   "id": "aa6d1b3e",
   "metadata": {},
   "outputs": [],
   "source": [
    "# github tes3"
   ]
  }
 ],
 "metadata": {
  "kernelspec": {
   "display_name": "Python 3 (ipykernel)",
   "language": "python",
   "name": "python3"
  },
  "language_info": {
   "codemirror_mode": {
    "name": "ipython",
    "version": 3
   },
   "file_extension": ".py",
   "mimetype": "text/x-python",
   "name": "python",
   "nbconvert_exporter": "python",
   "pygments_lexer": "ipython3",
   "version": "3.11.0rc1"
  }
 },
 "nbformat": 4,
 "nbformat_minor": 5
}
